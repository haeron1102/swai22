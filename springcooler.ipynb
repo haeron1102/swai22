{
 "cells": [
  {
   "cell_type": "code",
   "execution_count": 1,
   "id": "c6de6be6",
   "metadata": {},
   "outputs": [
    {
     "name": "stdout",
     "output_type": "stream",
     "text": [
      "Running PyMODI+ (v0.3.1)\n"
     ]
    }
   ],
   "source": [
    "import modi_plus\n",
    "import time\n"
   ]
  },
  {
   "cell_type": "code",
   "execution_count": null,
   "id": "aa4fc5c5",
   "metadata": {},
   "outputs": [],
   "source": [
    "bundle = modi_plus.MODIPlus()"
   ]
  },
  {
   "cell_type": "code",
   "execution_count": null,
   "id": "12f8a8f6",
   "metadata": {},
   "outputs": [],
   "source": [
    "bundle.modules"
   ]
  }
 ],
 "metadata": {
  "kernelspec": {
   "display_name": "swai",
   "language": "python",
   "name": "python3"
  },
  "language_info": {
   "codemirror_mode": {
    "name": "ipython",
    "version": 3
   },
   "file_extension": ".py",
   "mimetype": "text/x-python",
   "name": "python",
   "nbconvert_exporter": "python",
   "pygments_lexer": "ipython3",
   "version": "3.10.18"
  }
 },
 "nbformat": 4,
 "nbformat_minor": 5
}
