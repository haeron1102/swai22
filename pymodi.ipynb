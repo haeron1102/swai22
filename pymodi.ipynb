{
 "cells": [
  {
   "cell_type": "markdown",
   "id": "5740606f",
   "metadata": {},
   "source": [
    "# 2강"
   ]
  },
  {
   "cell_type": "markdown",
   "id": "1105ba5c",
   "metadata": {},
   "source": [
    "## dial"
   ]
  },
  {
   "cell_type": "code",
   "execution_count": 2,
   "id": "939b5ea4",
   "metadata": {},
   "outputs": [
    {
     "name": "stdout",
     "output_type": "stream",
     "text": [
      "Running PyMODI+ (v0.3.1)\n"
     ]
    }
   ],
   "source": [
    "import modi_plus"
   ]
  },
  {
   "cell_type": "code",
   "execution_count": 3,
   "id": "b51b556e",
   "metadata": {},
   "outputs": [
    {
     "name": "stdout",
     "output_type": "stream",
     "text": [
      "Initiating serial connection...\n",
      "Serial is open at \"\\\\?\\usb#vid_2fde&pid_0003#798b63a0084b#{dee824ef-729b-4a0e-9c14-b7117d33a817}\"\n",
      "Start initializing connected MODI+ modules\n",
      "Dial(0xC09) has been connected!\n",
      "Network(0xF54) has been connected!\n",
      "MODI init timeout over. Check your module connection.\n",
      "MODI+ modules are initialized!\n"
     ]
    }
   ],
   "source": [
    "bundle = modi_plus.MODIPlus()"
   ]
  },
  {
   "cell_type": "code",
   "execution_count": 4,
   "id": "c96c38ff",
   "metadata": {},
   "outputs": [
    {
     "data": {
      "text/plain": [
       "[<modi_plus.module.input_module.dial.Dial at 0x2442d6d14e0>,\n",
       " <modi_plus.module.setup_module.network.Network at 0x2442e848220>]"
      ]
     },
     "execution_count": 4,
     "metadata": {},
     "output_type": "execute_result"
    }
   ],
   "source": [
    "bundle.modules"
   ]
  },
  {
   "cell_type": "code",
   "execution_count": 5,
   "id": "85fce2c4",
   "metadata": {},
   "outputs": [],
   "source": [
    "dial = bundle.dials[0]\n"
   ]
  },
  {
   "cell_type": "code",
   "execution_count": 6,
   "id": "c41688c4",
   "metadata": {},
   "outputs": [
    {
     "name": "stdout",
     "output_type": "stream",
     "text": [
      "24.0\n"
     ]
    }
   ],
   "source": [
    "print(float(dial.turn))"
   ]
  },
  {
   "cell_type": "code",
   "execution_count": 7,
   "id": "b755c7eb",
   "metadata": {},
   "outputs": [
    {
     "name": "stdout",
     "output_type": "stream",
     "text": [
      "Current turn: 24\n"
     ]
    }
   ],
   "source": [
    "turn = dial.turn\n",
    "print(\"Current turn:\", turn)"
   ]
  },
  {
   "cell_type": "code",
   "execution_count": 10,
   "id": "031f30eb",
   "metadata": {},
   "outputs": [
    {
     "name": "stdout",
     "output_type": "stream",
     "text": [
      "Current turn: 0\n"
     ]
    }
   ],
   "source": [
    "while True:\n",
    "    print(dial.turn, end = \"\\r\")\n",
    "    if dial.turn < 1:\n",
    "        break\n",
    "\n",
    "turn = dial.turn\n",
    "print(\"Current turn:\", turn)"
   ]
  },
  {
   "cell_type": "code",
   "execution_count": null,
   "id": "47c1f264",
   "metadata": {},
   "outputs": [],
   "source": []
  }
 ],
 "metadata": {
  "kernelspec": {
   "display_name": "swai",
   "language": "python",
   "name": "python3"
  },
  "language_info": {
   "codemirror_mode": {
    "name": "ipython",
    "version": 3
   },
   "file_extension": ".py",
   "mimetype": "text/x-python",
   "name": "python",
   "nbconvert_exporter": "python",
   "pygments_lexer": "ipython3",
   "version": "3.10.18"
  }
 },
 "nbformat": 4,
 "nbformat_minor": 5
}
