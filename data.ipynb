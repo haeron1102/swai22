{
 "cells": [
  {
   "cell_type": "code",
   "execution_count": 5,
   "id": "8ebed4a1",
   "metadata": {},
   "outputs": [],
   "source": [
    "import torch\n",
    "import torch.nn as nn\n",
    "import torch.nn.functional as F\n",
    "\n",
    "from torch.utils.data import TensorDataset, DataLoader"
   ]
  },
  {
   "cell_type": "code",
   "execution_count": 7,
   "id": "8db5867e",
   "metadata": {},
   "outputs": [],
   "source": [
    "x_train = torch.FloatTensor([[73,  80,  75], \n",
    "                               [93,  88,  93], \n",
    "                               [89,  91,  90], \n",
    "                               [96,  98,  100],   \n",
    "                               [73,  66,  70]])\n",
    "y_train = torch.FloatTensor([[152], [185], [180], [196], [142]])"
   ]
  },
  {
   "cell_type": "code",
   "execution_count": 8,
   "id": "77860d20",
   "metadata": {},
   "outputs": [],
   "source": [
    "dataset = TensorDataset(x_train, y_train)\n",
    "dataloader = DataLoader(dataset, batch_size=2, shuffle=True)"
   ]
  },
  {
   "cell_type": "code",
   "execution_count": 9,
   "id": "c8b28687",
   "metadata": {},
   "outputs": [],
   "source": [
    "model = nn.Linear(3,1)\n",
    "optimizer = torch.optim.SGD(model.parameters(), lr=1e-5)"
   ]
  },
  {
   "cell_type": "code",
   "execution_count": 10,
   "id": "9544348c",
   "metadata": {},
   "outputs": [
    {
     "name": "stdout",
     "output_type": "stream",
     "text": [
      "Epoch    0/20 Batch 1/3 Cost: 47172.871094\n",
      "Epoch    0/20 Batch 2/3 Cost: 24050.259766\n",
      "Epoch    0/20 Batch 3/3 Cost: 3244.411133\n",
      "Epoch    1/20 Batch 1/3 Cost: 1399.871582\n",
      "Epoch    1/20 Batch 2/3 Cost: 910.816711\n",
      "Epoch    1/20 Batch 3/3 Cost: 272.811737\n",
      "Epoch    2/20 Batch 1/3 Cost: 47.199657\n",
      "Epoch    2/20 Batch 2/3 Cost: 7.334086\n",
      "Epoch    2/20 Batch 3/3 Cost: 16.118996\n",
      "Epoch    3/20 Batch 1/3 Cost: 2.840200\n",
      "Epoch    3/20 Batch 2/3 Cost: 0.154409\n",
      "Epoch    3/20 Batch 3/3 Cost: 11.102229\n",
      "Epoch    4/20 Batch 1/3 Cost: 3.069287\n",
      "Epoch    4/20 Batch 2/3 Cost: 3.884487\n",
      "Epoch    4/20 Batch 3/3 Cost: 5.518083\n",
      "Epoch    5/20 Batch 1/3 Cost: 2.588547\n",
      "Epoch    5/20 Batch 2/3 Cost: 6.044725\n",
      "Epoch    5/20 Batch 3/3 Cost: 0.383713\n",
      "Epoch    6/20 Batch 1/3 Cost: 0.183142\n",
      "Epoch    6/20 Batch 2/3 Cost: 2.829291\n",
      "Epoch    6/20 Batch 3/3 Cost: 10.174363\n",
      "Epoch    7/20 Batch 1/3 Cost: 4.008259\n",
      "Epoch    7/20 Batch 2/3 Cost: 4.191591\n",
      "Epoch    7/20 Batch 3/3 Cost: 1.234643\n",
      "Epoch    8/20 Batch 1/3 Cost: 4.429176\n",
      "Epoch    8/20 Batch 2/3 Cost: 3.111405\n",
      "Epoch    8/20 Batch 3/3 Cost: 3.580812\n",
      "Epoch    9/20 Batch 1/3 Cost: 3.573753\n",
      "Epoch    9/20 Batch 2/3 Cost: 6.510574\n",
      "Epoch    9/20 Batch 3/3 Cost: 0.643991\n",
      "Epoch   10/20 Batch 1/3 Cost: 0.152434\n",
      "Epoch   10/20 Batch 2/3 Cost: 2.828697\n",
      "Epoch   10/20 Batch 3/3 Cost: 10.176018\n",
      "Epoch   11/20 Batch 1/3 Cost: 2.208482\n",
      "Epoch   11/20 Batch 2/3 Cost: 5.897010\n",
      "Epoch   11/20 Batch 3/3 Cost: 1.742661\n",
      "Epoch   12/20 Batch 1/3 Cost: 4.916371\n",
      "Epoch   12/20 Batch 2/3 Cost: 6.478372\n",
      "Epoch   12/20 Batch 3/3 Cost: 1.628490\n",
      "Epoch   13/20 Batch 1/3 Cost: 4.102466\n",
      "Epoch   13/20 Batch 2/3 Cost: 3.395979\n",
      "Epoch   13/20 Batch 3/3 Cost: 0.797459\n",
      "Epoch   14/20 Batch 1/3 Cost: 1.664245\n",
      "Epoch   14/20 Batch 2/3 Cost: 2.134371\n",
      "Epoch   14/20 Batch 3/3 Cost: 11.559129\n",
      "Epoch   15/20 Batch 1/3 Cost: 3.538583\n",
      "Epoch   15/20 Batch 2/3 Cost: 4.145639\n",
      "Epoch   15/20 Batch 3/3 Cost: 1.653863\n",
      "Epoch   16/20 Batch 1/3 Cost: 1.658194\n",
      "Epoch   16/20 Batch 2/3 Cost: 8.161293\n",
      "Epoch   16/20 Batch 3/3 Cost: 1.588125\n",
      "Epoch   17/20 Batch 1/3 Cost: 2.724669\n",
      "Epoch   17/20 Batch 2/3 Cost: 4.718343\n",
      "Epoch   17/20 Batch 3/3 Cost: 1.104045\n",
      "Epoch   18/20 Batch 1/3 Cost: 4.799867\n",
      "Epoch   18/20 Batch 2/3 Cost: 2.973988\n",
      "Epoch   18/20 Batch 3/3 Cost: 0.570885\n",
      "Epoch   19/20 Batch 1/3 Cost: 1.083374\n",
      "Epoch   19/20 Batch 2/3 Cost: 6.217536\n",
      "Epoch   19/20 Batch 3/3 Cost: 2.590726\n",
      "Epoch   20/20 Batch 1/3 Cost: 4.241174\n",
      "Epoch   20/20 Batch 2/3 Cost: 1.741918\n",
      "Epoch   20/20 Batch 3/3 Cost: 8.267204\n"
     ]
    }
   ],
   "source": [
    "nb_epochs = 20\n",
    "for epoch in range(nb_epochs+1):\n",
    "    for batch_idx, samples in enumerate(dataloader):\n",
    "        x_train, y_train = samples\n",
    "        prediction = model(x_train)\n",
    "\n",
    "        cost = F.mse_loss(prediction, y_train)\n",
    "\n",
    "        optimizer.zero_grad()\n",
    "        cost.backward()\n",
    "        optimizer.step()\n",
    "\n",
    "        print('Epoch {:4d}/{} Batch {}/{} Cost: {:.6f}'.format(epoch, nb_epochs, batch_idx+1, len(dataloader), cost.item()))"
   ]
  },
  {
   "cell_type": "code",
   "execution_count": null,
   "id": "f47a9602",
   "metadata": {},
   "outputs": [],
   "source": []
  }
 ],
 "metadata": {
  "kernelspec": {
   "display_name": "aiai",
   "language": "python",
   "name": "python3"
  },
  "language_info": {
   "codemirror_mode": {
    "name": "ipython",
    "version": 3
   },
   "file_extension": ".py",
   "mimetype": "text/x-python",
   "name": "python",
   "nbconvert_exporter": "python",
   "pygments_lexer": "ipython3",
   "version": "3.10.8"
  }
 },
 "nbformat": 4,
 "nbformat_minor": 5
}
