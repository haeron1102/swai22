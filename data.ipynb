{
 "cells": [
  {
   "cell_type": "markdown",
   "id": "4f9613c5",
   "metadata": {},
   "source": [
    "## modi 기본 설정"
   ]
  },
  {
   "cell_type": "code",
   "execution_count": 1,
   "id": "ba73ef4a",
   "metadata": {},
   "outputs": [
    {
     "name": "stdout",
     "output_type": "stream",
     "text": [
      "Running PyMODI+ (v0.3.1)\n"
     ]
    }
   ],
   "source": [
    "import modi_plus\n",
    "import time"
   ]
  },
  {
   "cell_type": "code",
   "execution_count": 2,
   "id": "e6677c96",
   "metadata": {},
   "outputs": [
    {
     "name": "stdout",
     "output_type": "stream",
     "text": [
      "Initiating serial connection...\n",
      "Serial is open at \"\\\\?\\usb#vid_2fde&pid_0003#798b6b78034b#{dee824ef-729b-4a0e-9c14-b7117d33a817}\"\n",
      "Start initializing connected MODI+ modules\n",
      "Network(0x72C) has been connected!\n",
      "Motor(0x172) has been connected!\n",
      "Motor(0x576) has been connected!\n",
      "MODI+ modules are initialized!\n"
     ]
    }
   ],
   "source": [
    "bundle = modi_plus.MODIPlus()"
   ]
  },
  {
   "cell_type": "code",
   "execution_count": 3,
   "id": "77817eda",
   "metadata": {},
   "outputs": [
    {
     "data": {
      "text/plain": [
       "[<modi_plus.module.setup_module.network.Network at 0x14a6a45fdf0>,\n",
       " <modi_plus.module.output_module.motor.Motor at 0x14a6a4ce680>,\n",
       " <modi_plus.module.output_module.motor.Motor at 0x14a6a559060>]"
      ]
     },
     "execution_count": 3,
     "metadata": {},
     "output_type": "execute_result"
    }
   ],
   "source": [
    "bundle.modules"
   ]
  },
  {
   "cell_type": "markdown",
   "id": "b0922b31",
   "metadata": {},
   "source": [
    "## led 다루기"
   ]
  },
  {
   "cell_type": "code",
   "execution_count": null,
   "id": "9f5b2509",
   "metadata": {},
   "outputs": [
    {
     "ename": "Exception",
     "evalue": "Not enough modules exits!!",
     "output_type": "error",
     "traceback": [
      "\u001b[1;31m---------------------------------------------------------------------------\u001b[0m",
      "\u001b[1;31mException\u001b[0m                                 Traceback (most recent call last)",
      "Cell \u001b[1;32mIn[4], line 1\u001b[0m\n\u001b[1;32m----> 1\u001b[0m led \u001b[38;5;241m=\u001b[39m \u001b[43mbundle\u001b[49m\u001b[38;5;241;43m.\u001b[39;49m\u001b[43mleds\u001b[49m\u001b[43m[\u001b[49m\u001b[38;5;241;43m0\u001b[39;49m\u001b[43m]\u001b[49m \u001b[38;5;66;03m#여러개의 led module 중 첫번째 것을 설정함\u001b[39;00m\n\u001b[0;32m      3\u001b[0m led\u001b[38;5;241m.\u001b[39mred \u001b[38;5;241m=\u001b[39m \u001b[38;5;241m100\u001b[39m\n\u001b[0;32m      4\u001b[0m time\u001b[38;5;241m.\u001b[39msleep(\u001b[38;5;241m3\u001b[39m)\n",
      "File \u001b[1;32md:\\Users\\gus90\\anaconda3\\envs\\aiai\\lib\\site-packages\\modi_plus\\module\\module.py:361\u001b[0m, in \u001b[0;36mModuleList.__getitem__\u001b[1;34m(self, key)\u001b[0m\n\u001b[0;32m    359\u001b[0m         time\u001b[38;5;241m.\u001b[39msleep(\u001b[38;5;241m0.1\u001b[39m)\n\u001b[0;32m    360\u001b[0m     \u001b[38;5;28;01mif\u001b[39;00m \u001b[38;5;28mint\u001b[39m(key) \u001b[38;5;241m>\u001b[39m\u001b[38;5;241m=\u001b[39m \u001b[38;5;28mlen\u001b[39m(\u001b[38;5;28mself\u001b[39m):\n\u001b[1;32m--> 361\u001b[0m         \u001b[38;5;28;01mraise\u001b[39;00m \u001b[38;5;167;01mException\u001b[39;00m(\u001b[38;5;124m\"\u001b[39m\u001b[38;5;124mNot enough modules exits!!\u001b[39m\u001b[38;5;124m\"\u001b[39m)\n\u001b[0;32m    362\u001b[0m \u001b[38;5;28;01mreturn\u001b[39;00m \u001b[38;5;28mself\u001b[39m\u001b[38;5;241m.\u001b[39msublist()[key]\n",
      "\u001b[1;31mException\u001b[0m: Not enough modules exits!!"
     ]
    },
    {
     "name": "stdout",
     "output_type": "stream",
     "text": [
      "Motor(0x172) has been reconnected!\n"
     ]
    }
   ],
   "source": [
    "led = bundle.leds[0] #여러개의 led module 중 첫번째 것을 설정함\n",
    "\n",
    "led.red = 100\n",
    "time.sleep(3)\n",
    "led.red = 0\n",
    "time.sleep(1) #동일한 방법으로 led.green / led.blue 로 rgb를 조절할 수 있음"
   ]
  },
  {
   "cell_type": "code",
   "execution_count": null,
   "id": "19a37b50",
   "metadata": {},
   "outputs": [],
   "source": [
    "led.turn_on() #기본적으로 흰색을 킴\n",
    "time.sleep(2)\n",
    "led.turn_off()\n",
    "time.sleep(1)"
   ]
  },
  {
   "cell_type": "code",
   "execution_count": null,
   "id": "7314b931",
   "metadata": {},
   "outputs": [],
   "source": [
    "led.rgb = (100,0,100) #한꺼번에 rgb를 설정\n",
    "time.sleep(2)\n",
    "led.turn_off() #"
   ]
  },
  {
   "cell_type": "markdown",
   "id": "aae50519",
   "metadata": {},
   "source": [
    "## display 다루기"
   ]
  },
  {
   "cell_type": "code",
   "execution_count": null,
   "id": "cee3df23",
   "metadata": {},
   "outputs": [],
   "source": [
    "display = bundle.displays[0] #마찬가지\n",
    "\n",
    "display.text = \"Hello Modi\"\n",
    "time.sleep(3)\n",
    "display.reset()\n",
    "time.sleep(1)"
   ]
  },
  {
   "cell_type": "markdown",
   "id": "c3f783c5",
   "metadata": {},
   "source": [
    "## speaker 다루기"
   ]
  },
  {
   "cell_type": "code",
   "execution_count": null,
   "id": "abaf19be",
   "metadata": {},
   "outputs": [],
   "source": [
    "speaker = bundle.speakers[0]\n",
    "\n",
    "speaker.tune = 3951, 50 #주파수, 음량\n",
    "time.sleep(2)\n",
    "speaker.frequency = 1975 #주파수만 할당\n",
    "time.sleep(2)\n",
    "speaker.volume = 100 #음량을 할당\n",
    "time.sleep(2)\n",
    "speaker.reset()"
   ]
  },
  {
   "cell_type": "markdown",
   "id": "f55259db",
   "metadata": {},
   "source": [
    "## motor 다루기"
   ]
  },
  {
   "cell_type": "code",
   "execution_count": null,
   "id": "59d0e6be",
   "metadata": {},
   "outputs": [],
   "source": [
    "motor = bundle.motors[0]\n",
    "\n",
    "motor.angle = 0,10 # 모터 각도, 속도\n",
    "time.sleep(2)\n",
    "\n",
    "motor.speed(50) # -100 ~ 100 범위 설정"
   ]
  },
  {
   "cell_type": "code",
   "execution_count": null,
   "id": "9d0d8c59",
   "metadata": {},
   "outputs": [],
   "source": []
  }
 ],
 "metadata": {
  "kernelspec": {
   "display_name": "aiai",
   "language": "python",
   "name": "python3"
  },
  "language_info": {
   "codemirror_mode": {
    "name": "ipython",
    "version": 3
   },
   "file_extension": ".py",
   "mimetype": "text/x-python",
   "name": "python",
   "nbconvert_exporter": "python",
   "pygments_lexer": "ipython3",
   "version": "3.10.8"
  }
 },
 "nbformat": 4,
 "nbformat_minor": 5
}
